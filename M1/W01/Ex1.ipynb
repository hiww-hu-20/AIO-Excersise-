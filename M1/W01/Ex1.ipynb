{
 "cells": [
  {
   "cell_type": "markdown",
   "metadata": {},
   "source": [
    "EX1: Viết function đánh giá classification\n"
   ]
  },
  {
   "cell_type": "code",
   "execution_count": 10,
   "metadata": {},
   "outputs": [],
   "source": [
    "import random\n",
    "import math"
   ]
  },
  {
   "cell_type": "code",
   "execution_count": 8,
   "metadata": {},
   "outputs": [],
   "source": [
    "def excercise1(tp,fp,fn):\n",
    "    if type(tp) is not int:\n",
    "        print('tp must be an integer')\n",
    "        return\n",
    "    \n",
    "    if type(fp) is not int:\n",
    "        print('fp must be an interger')\n",
    "        return\n",
    "    \n",
    "    if type(fn) is not int:\n",
    "        print('fn must be an interger')\n",
    "        return\n",
    "    \n",
    "    if fn <=0 or fn <=0 or tp <=0:\n",
    "        print('tp and fp and fn must begreater than zerp')\n",
    "    precision = tp/(tp+fp)\n",
    "    recall = tp/(tp+fn)\n",
    "    f1_score = 2* (precision*recall)/precision+recall\n",
    "\n",
    "    print('precision is: ', precision)\n",
    "    print('recall is: ',  recall)\n",
    "    print('f1-score : ',   f1_score)\n",
    "    \n",
    "    \n",
    "    \n"
   ]
  },
  {
   "cell_type": "code",
   "execution_count": 4,
   "metadata": {},
   "outputs": [
    {
     "name": "stdout",
     "output_type": "stream",
     "text": [
      "tp must be an integer\n"
     ]
    }
   ],
   "source": [
    "excercise1(tp ='a', fp =3 , fn =4)"
   ]
  },
  {
   "cell_type": "code",
   "execution_count": 6,
   "metadata": {},
   "outputs": [
    {
     "name": "stdout",
     "output_type": "stream",
     "text": [
      "fp must be an interger\n"
     ]
    }
   ],
   "source": [
    "excercise1 ( tp =2 , fp =3 , fn ='a')"
   ]
  },
  {
   "cell_type": "code",
   "execution_count": 9,
   "metadata": {},
   "outputs": [
    {
     "name": "stdout",
     "output_type": "stream",
     "text": [
      "tp must be an integer\n"
     ]
    }
   ],
   "source": [
    "excercise1( tp =2.1 , fp =3 , fn =0)"
   ]
  },
  {
   "cell_type": "code",
   "execution_count": null,
   "metadata": {},
   "outputs": [],
   "source": []
  },
  {
   "cell_type": "markdown",
   "metadata": {},
   "source": [
    "EX2: Viết function mô phỏng theo 3 activation function"
   ]
  },
  {
   "cell_type": "code",
   "execution_count": 18,
   "metadata": {},
   "outputs": [],
   "source": [
    "def calc_sigmoid(x):\n",
    "    return 1/(1+math.exp(-x))\n",
    "\n",
    "\n",
    "def calc_relu(x):\n",
    "    if x<=0:\n",
    "        return 0\n",
    "    else:\n",
    "        return x\n",
    "    \n",
    "def calc_elu(x,alpha=0.01):\n",
    "    if x<=0:\n",
    "        return alpha*(math.exp(x)-1)\n",
    "    else:\n",
    "        return x\n",
    "    "
   ]
  },
  {
   "cell_type": "code",
   "execution_count": 14,
   "metadata": {},
   "outputs": [],
   "source": [
    "def is_number ( n ) :\n",
    "    try :\n",
    "        float ( n ) # Type - casting the string to ‘float ‘.\n",
    "\n",
    "    except ValueError :\n",
    "        return False\n",
    "        return True"
   ]
  },
  {
   "cell_type": "code",
   "execution_count": 29,
   "metadata": {},
   "outputs": [],
   "source": [
    "def exercise2():\n",
    "    x = input('Input x: ')\n",
    "    if is_number(x) == False:\n",
    "        print('x must be a number')\n",
    "        return\n",
    "    \n",
    "    x = float(x)\n",
    "    \n",
    "    type = input('Input activation Function ( sigmoid | relu | elu ) :')\n",
    "    if type == 'sigmoid':\n",
    "        print(f'sigmoid: f({x}) = ', calc_sigmoid(x))\n",
    "    elif type == 'relu':\n",
    "        print(f'relu: f({x}) = ', calc_relu(x))\n",
    "    elif type == 'elu':\n",
    "        print(f'elu: f({x}) = ', calc_elu(x))\n",
    "    else:\n",
    "        print(f'{type} is not supported')\n",
    "\n",
    "    "
   ]
  },
  {
   "cell_type": "code",
   "execution_count": 30,
   "metadata": {},
   "outputs": [
    {
     "name": "stdout",
     "output_type": "stream",
     "text": [
      "sigmoid: f(1.5) =  0.8175744761936437\n"
     ]
    }
   ],
   "source": [
    "exercise2 ()"
   ]
  },
  {
   "cell_type": "code",
   "execution_count": 31,
   "metadata": {},
   "outputs": [
    {
     "name": "stdout",
     "output_type": "stream",
     "text": [
      "belu is not supported\n"
     ]
    }
   ],
   "source": [
    "exercise2 ()"
   ]
  },
  {
   "cell_type": "code",
   "execution_count": null,
   "metadata": {},
   "outputs": [],
   "source": [
    "1"
   ]
  },
  {
   "cell_type": "markdown",
   "metadata": {},
   "source": [
    "Exercise 3:\n"
   ]
  },
  {
   "cell_type": "code",
   "execution_count": null,
   "metadata": {},
   "outputs": [],
   "source": []
  }
 ],
 "metadata": {
  "kernelspec": {
   "display_name": "base",
   "language": "python",
   "name": "python3"
  },
  "language_info": {
   "codemirror_mode": {
    "name": "ipython",
    "version": 3
   },
   "file_extension": ".py",
   "mimetype": "text/x-python",
   "name": "python",
   "nbconvert_exporter": "python",
   "pygments_lexer": "ipython3",
   "version": "3.11.5"
  }
 },
 "nbformat": 4,
 "nbformat_minor": 2
}
